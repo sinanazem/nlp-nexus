{
 "cells": [
  {
   "cell_type": "code",
   "execution_count": 17,
   "id": "3f92916b",
   "metadata": {},
   "outputs": [],
   "source": [
    "import re\n",
    "import string\n",
    "import nltk\n",
    "from bertopic import BERTopic\n",
    "\n",
    "from nltk.corpus import stopwords\n",
    "from nltk.stem import WordNetLemmatizer"
   ]
  },
  {
   "cell_type": "code",
   "execution_count": 13,
   "id": "6a0b75ae",
   "metadata": {},
   "outputs": [
    {
     "name": "stderr",
     "output_type": "stream",
     "text": [
      "[nltk_data] Downloading package wordnet to\n",
      "[nltk_data]     /Users/andishetavakkoli/nltk_data...\n"
     ]
    },
    {
     "data": {
      "text/plain": [
       "True"
      ]
     },
     "execution_count": 13,
     "metadata": {},
     "output_type": "execute_result"
    }
   ],
   "source": [
    "nltk.download('stopwords')\n",
    "nltk.download('punkt')\n",
    "nltk.download('wordnet')"
   ]
  },
  {
   "cell_type": "code",
   "execution_count": 14,
   "id": "daa5d4d8",
   "metadata": {},
   "outputs": [],
   "source": [
    "\n",
    "def preprocess_text(text):\n",
    "    # Convert text to lowercase\n",
    "    text = text.lower()\n",
    "\n",
    "    # Remove numbers\n",
    "    text = re.sub(r'\\d+', '', text)\n",
    "\n",
    "    # Remove punctuation\n",
    "    text = text.translate(str.maketrans('', '', string.punctuation))\n",
    "\n",
    "    # Tokenize the text\n",
    "    tokens = nltk.word_tokenize(text)\n",
    "\n",
    "    # Remove stopwords\n",
    "    stop_words = set(stopwords.words('english'))\n",
    "    tokens = [token for token in tokens if token not in stop_words]\n",
    "\n",
    "    # Lemmatize the tokens\n",
    "    lemmatizer = WordNetLemmatizer()\n",
    "    tokens = [lemmatizer.lemmatize(token) for token in tokens]\n",
    "\n",
    "    # Join the tokens back into a single string\n",
    "    preprocessed_text = ' '.join(tokens)\n",
    "\n",
    "    return preprocessed_text\n",
    "\n"
   ]
  },
  {
   "cell_type": "code",
   "execution_count": 15,
   "id": "9bdf7acb",
   "metadata": {},
   "outputs": [],
   "source": [
    "text = ''' The U.S. debt ceiling deal has taken the near-term risk of default off the table. Yet the fiscal situation remains challenging, in our view. Total public debt as a share of GDP has jumped to around double the level in 2005 (left chart). The budget deficit is also already large (right chart) at a time when the economy is overheating. The debt deal doesn’t really change this picture, we think. The spending cuts are a fraction of what was cut in the last debt ceiling showdown in 2011: about 0.3% of GDP, according to the Congressional Budget Office, compared with 1% in 2011. We don’t see spending cuts dragging on growth in the same way as a result. But we do think higher-for-longer interest rates will raise debt servicing costs and could leave debt levels growing in this new macro regime. We have said the market focus would move back to the macro picture after the debt ceiling deal – now the Federal Reserve and stubborn inflation are retaking the spotlight. \n",
    "\n",
    "The pandemic shocked U.S. labor supply, creating worker shortages. The labor market remains extremely tight, as confirmed in the latest payrolls data, with workforce participation not having improved. That is keeping core inflation sticky. This has presented the Fed with a sharp trade-off: crush growth with even higher rates or live with some inflation. We think the Fed will have to keep policy tighter. Markets have already started to mull the possibility of another rate hike even after the Fed signaled a potential pause. Markets are no longer pricing in repeated Fed rate cuts, waking up to our long-held view that rates are likely to stay higher for longer to combat persistent inflation.preprocess_text(text)'''"
   ]
  },
  {
   "cell_type": "code",
   "execution_count": 16,
   "id": "3d7b6ab5",
   "metadata": {},
   "outputs": [
    {
     "data": {
      "text/plain": [
       "'u debt ceiling deal taken nearterm risk default table yet fiscal situation remains challenging view total public debt share gdp jumped around double level left chart budget deficit also already large right chart time economy overheating debt deal ’ really change picture think spending cut fraction cut last debt ceiling showdown gdp according congressional budget office compared ’ see spending cut dragging growth way result think higherforlonger interest rate raise debt servicing cost could leave debt level growing new macro regime said market focus would move back macro picture debt ceiling deal – federal reserve stubborn inflation retaking spotlight pandemic shocked u labor supply creating worker shortage labor market remains extremely tight confirmed latest payroll data workforce participation improved keeping core inflation sticky presented fed sharp tradeoff crush growth even higher rate live inflation think fed keep policy tighter market already started mull possibility another rate hike even fed signaled potential pause market longer pricing repeated fed rate cut waking longheld view rate likely stay higher longer combat persistent inflationpreprocesstexttext'"
      ]
     },
     "execution_count": 16,
     "metadata": {},
     "output_type": "execute_result"
    }
   ],
   "source": [
    "preprocess_text(text)"
   ]
  },
  {
   "cell_type": "code",
   "execution_count": null,
   "id": "b341b3e6",
   "metadata": {},
   "outputs": [],
   "source": [
    "model = BERTopic(embedding_model=\"xlm-r-bert-base-nli-stsb-mean-tokens\")\n",
    "\n",
    "topics, probebilites = model.fit_transform(['text'])"
   ]
  }
 ],
 "metadata": {
  "kernelspec": {
   "display_name": "Python 3 (ipykernel)",
   "language": "python",
   "name": "python3"
  },
  "language_info": {
   "codemirror_mode": {
    "name": "ipython",
    "version": 3
   },
   "file_extension": ".py",
   "mimetype": "text/x-python",
   "name": "python",
   "nbconvert_exporter": "python",
   "pygments_lexer": "ipython3",
   "version": "3.8.16"
  }
 },
 "nbformat": 4,
 "nbformat_minor": 5
}
